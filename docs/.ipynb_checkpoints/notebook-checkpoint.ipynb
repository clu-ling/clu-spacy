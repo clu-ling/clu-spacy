{
 "cells": [
  {
   "cell_type": "markdown",
   "id": "0197b2b8",
   "metadata": {},
   "source": [
    "# Converting SpaCy Doc to CluDocument\n",
    "\n",
    "To convert a SpaCy ```Doc``` object to a py-processors ```Document``` object (sometimes referred to as CluDocument) the method ```.to_clu_doc()``` is used. This method is found in the ```ConverterUtils``` class. The method accepts one paramater: a ```Doc``` object annotated through the minimal pipeline as described in \\S Pipeline Requirements, and has one return: a ```Document``` (CluDocument) object. "
   ]
  },
  {
   "cell_type": "markdown",
   "id": "9fdf64af",
   "metadata": {},
   "source": [
    "### Working Example\n",
    "\n",
    "First, you need a SpaCy ```Doc``` object annotated with a full pipeline. We use ```en_core_web_sm```, feel free to use any pipeline you want (in any language)."
   ]
  },
  {
   "cell_type": "code",
   "execution_count": null,
   "id": "b8ab0474",
   "metadata": {},
   "outputs": [],
   "source": [
    "import spacy\n",
    "\n",
    "PIPELINE = 'en_core_web_sm'\n",
    "nlp = spacy.load(PIPELINE)\n",
    "\n",
    "text = \"The huskies howled all night.\"\n",
    "doc = nlp(text)"
   ]
  },
  {
   "cell_type": "markdown",
   "id": "d7c30889",
   "metadata": {},
   "source": [
    "Now we have a SpaCy ```Doc``` object trained on the ```en_core_web_sm``` pipeline stored as ```doc```, with the text \"The huskies howled all night.\" This is the same text used to create the example CluDoc found in the ```docs/examples``` directory of the ```processors-spacy``` repository, see there for expected output. \n",
    "\n",
    "Next, we must convert the ```Doc``` object to a ```Document``` object."
   ]
  },
  {
   "cell_type": "code",
   "execution_count": null,
   "id": "25f39502",
   "metadata": {},
   "outputs": [],
   "source": [
    "# Import the converter!\n",
    "from processorspacy.utils import ConverterUtils as converter\n",
    "\n",
    "cludoc = converter.to_clu_doc(doc)"
   ]
  },
  {
   "cell_type": "markdown",
   "id": "f742153a",
   "metadata": {},
   "source": [
    "Now we have our py-processor ```Document``` object stored as ```cludoc```. We can further JSON serialize this object and write to a .json file with the following code."
   ]
  },
  {
   "cell_type": "code",
   "execution_count": null,
   "id": "04ce436e",
   "metadata": {},
   "outputs": [],
   "source": [
    "file_name = \"cludoc.json\" # Replace \"cludoc\" with desired path/filename\n",
    "\n",
    "with open(file_name, 'w') as f:\n",
    "    f.write(cludoc.to_JSON())"
   ]
  },
  {
   "cell_type": "markdown",
   "id": "c963169c",
   "metadata": {},
   "source": [
    "We now have a file ```cludoc.json``` which contains our JSON serialized ```Document``` object which has been converted from its original ```Doc``` instance. For more information on serializing ```Document``` objects, see [the py-processors documentation](https://py-processors.readthedocs.io/en/latest/example.html#serializing-to-from-json)."
   ]
  },
  {
   "cell_type": "markdown",
   "id": "9e9f860a",
   "metadata": {},
   "source": [
    "# Converting CluDocument to SpaCy Doc\n",
    "\n",
    "To convert a py-processors ```Document``` object to a SpaCy ```Doc``` object the ```.to_spacy_doc()``` methods is used. This method is found in the ```ConverterUtils``` class. The method accepts two paramaters: a JSON serialized ```Document``` object passed as a path to the .json file and the name of a SpaCy pipeline (this pipeline must be preinstalled/trained), and has one return: a SpaCy ```Doc``` object. Future versions of ```processors-spacy``` may support direct ```Document``` objects."
   ]
  },
  {
   "cell_type": "markdown",
   "id": "6a92555a",
   "metadata": {},
   "source": [
    "### Working Example\n",
    "\n",
    "For the purposes of this example we will use the example cludoc found at ```docs/examples/CluDoc1.json``` and the pipeline ```en_core_web_sm```."
   ]
  },
  {
   "cell_type": "code",
   "execution_count": null,
   "id": "d992c49b",
   "metadata": {},
   "outputs": [],
   "source": [
    "# Import the converter!\n",
    "from processorspacy.utils import ConverterUtils as converter\n",
    "\n",
    "file_path = \"app/docs/examples/cluDoc1.json\"\n",
    "PIPELINE = \"en_core_web_sm\"\n",
    "\n",
    "spacydoc = converter.to_spacy_doc(file_path, PIPELINE)"
   ]
  },
  {
   "cell_type": "markdown",
   "id": "14e57e16",
   "metadata": {},
   "source": [
    "If you wish to use an annotated text other than the example provided, you can follow the directions [here](https://py-processors.readthedocs.io/en/latest/example.html#running-the-nlp-server) to create an annotated ```Document``` object. Once created simply follow the instructions in the previous section for JSON serialization."
   ]
  }
 ],
 "metadata": {
  "kernelspec": {
   "display_name": "Python 3",
   "language": "python",
   "name": "python3"
  },
  "language_info": {
   "codemirror_mode": {
    "name": "ipython",
    "version": 3
   },
   "file_extension": ".py",
   "mimetype": "text/x-python",
   "name": "python",
   "nbconvert_exporter": "python",
   "pygments_lexer": "ipython3",
   "version": "3.8.7"
  }
 },
 "nbformat": 4,
 "nbformat_minor": 5
}
